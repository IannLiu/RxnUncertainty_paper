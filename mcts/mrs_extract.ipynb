{
 "cells": [
  {
   "cell_type": "code",
   "execution_count": null,
   "metadata": {
    "collapsed": true
   },
   "outputs": [],
   "source": [
    "from rdkit.Chem import Draw\n",
    "from rdkit.Chem import AllChem\n",
    "from mcts import interpret"
   ]
  },
  {
   "cell_type": "code",
   "execution_count": null,
   "outputs": [],
   "source": [
    "%%capture\n",
    "smis = '[C:1]([C:2](=[O:3])[H:7])([H:4])([H:5])[H:6].[C:8]([O:9][C:10]([C:11]([H:15])([H:16])[H:17])=[O:12])([H:13])[H:14]>>[C:1]([C:2]=[O:3])([H:4])([H:5])[H:6].[H:7][C:8]([O:9][C:10]([C:11]([H:15])([H:16])[H:17])=[O:12])([H:13])[H:14]'\n",
    "unc_rat = interpret(checkpoint_dir='trained_model/models', all_rxns=[smis], score_func_value_type='pred', rollout=5)[0]"
   ],
   "metadata": {
    "collapsed": false
   }
  },
  {
   "cell_type": "code",
   "execution_count": null,
   "outputs": [],
   "source": [
    "rat_list = []\n",
    "for rat in unc_rat:\n",
    "    rxn = AllChem.ReactionFromSmarts(rat.smarts,useSmiles=True)\n",
    "    display(Draw.ReactionToImage(rxn))\n",
    "    print(f'aleatoric: {rat.data_unc}, epistemic: {rat.model_unc}, predictions: {rat.value}')"
   ],
   "metadata": {
    "collapsed": false
   }
  },
  {
   "cell_type": "code",
   "execution_count": null,
   "outputs": [],
   "source": [],
   "metadata": {
    "collapsed": false
   }
  }
 ],
 "metadata": {
  "kernelspec": {
   "display_name": "Python 3",
   "language": "python",
   "name": "python3"
  },
  "language_info": {
   "codemirror_mode": {
    "name": "ipython",
    "version": 2
   },
   "file_extension": ".py",
   "mimetype": "text/x-python",
   "name": "python",
   "nbconvert_exporter": "python",
   "pygments_lexer": "ipython2",
   "version": "2.7.6"
  }
 },
 "nbformat": 4,
 "nbformat_minor": 0
}
