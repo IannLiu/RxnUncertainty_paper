{
 "cells": [
  {
   "cell_type": "code",
   "execution_count": null,
   "metadata": {},
   "outputs": [],
   "source": [
    "import yaml\n",
    "from pyrenetx.core.renet import ReNet\n",
    "import numpy as np\n",
    "from pyrenetx.core.reactor import Reactor\n",
    "import pandas as pd\n",
    "import math\n",
    "cm = 1 / 2.54\n",
    "\n",
    "with open(\"MeAcet_rxn_info.yaml\", 'r') as f:\n",
    "    rmg_rxn_dict = yaml.load(f, Loader=yaml.FullLoader)\n",
    "f.close()\n",
    "temperature = 1000  # reaction temperature\n",
    "end_time = 0.12  # the default simulation time\n",
    "ini_con = 0.1  # the initial concentration of reactant\n",
    "\n",
    "def sim_reactor(net, sim_time: float = None):\n",
    "    \"\"\"\n",
    "    Simulate reactor\n",
    "    \"\"\"\n",
    "    react = Reactor(network=net)\n",
    "    if sim_time is None:\n",
    "        sim_time = end_time\n",
    "    react.create_pfr(condition={\"concentration\": {\"COC(C)=O\": ini_con},\n",
    "                                \"temperature\": temperature\n",
    "                                },\n",
    "                     start_time=0,\n",
    "                     end_time=sim_time,\n",
    "                     expression='TST'\n",
    "                     )\n",
    "    cons = react.simulate_pfr()\n",
    "\n",
    "    return cons, react.get_info()\n",
    "\n",
    "def get_species_rxn_dict(information, conversion=None):\n",
    "    line = -1\n",
    "    if conversion is not  None:\n",
    "        ini_c = information['concentration'][\"COC(C)=O\"].iloc[0]\n",
    "        end_c = ini_c * (1- conversion)\n",
    "        for ith, c in enumerate(information['concentration'][\"COC(C)=O\"].values):\n",
    "            if c > end_c:\n",
    "                continue\n",
    "            else:\n",
    "                line = ith\n",
    "                break\n",
    "    sr_dict = {}\n",
    "    for _n in information['species_rate'].columns:\n",
    "        if _n != 'time':\n",
    "            sr_dict[_n] = {}\n",
    "    for _r, rate in information['rxn_rates'].items():\n",
    "        if _r != 'time':\n",
    "            ps = _r.split('>>')[-1].split('.')\n",
    "            rs = _r.split('>>')[0].split('.')\n",
    "            for p in ps:\n",
    "                sr_dict[p][_r] = rate.iloc[line]\n",
    "            for r in rs:\n",
    "                sr_dict[r][_r] = rate.iloc[line]\n",
    "    sorted_sr_dict = {}\n",
    "    for s, rs in sr_dict.items():\n",
    "        sorted_sr_dict[s] = sorted(rs.items(), key=lambda x: x[1], reverse=True)\n",
    "\n",
    "    return sorted_sr_dict\n",
    "\n",
    "def filter_edges(base_dict: dict, rxn_dict:dict, top_p: float):\n",
    "    \"\"\"\n",
    "    get top p reaction paths\n",
    "    \"\"\"\n",
    "    filtered_species_rxns = {}\n",
    "    filtered_rxns = set({})\n",
    "    edge_list = []\n",
    "    coverage_list = []\n",
    "    for name, rs in base_dict.items():\n",
    "        num = math.ceil(len(rs) * top_p)\n",
    "        sel_rxns = [r[0] for r in base_dict[name][0: num]]\n",
    "        filtered_species_rxns[name] = []\n",
    "        count = 0\n",
    "        for ith in range(num):\n",
    "            if rxn_dict[name][ith][0] in sel_rxns:\n",
    "                filtered_species_rxns[name].append(rxn_dict[name][ith][0])\n",
    "                filtered_rxns.add(rxn_dict[name][ith][0])\n",
    "                count += 1\n",
    "        coverage_list.append(count/num)\n",
    "    for reaction in filtered_rxns:\n",
    "        rs, ps = reaction.split('>>')[0].split('.'), reaction.split('>>')[-1].split('.')\n",
    "        for r in rs:\n",
    "            for p in ps:\n",
    "                if r == p:\n",
    "                    continue\n",
    "                else:\n",
    "                    if (r, p) not in edge_list:\n",
    "                        edge_list.append((r, p))\n",
    "\n",
    "    return edge_list, coverage_list"
   ]
  },
  {
   "cell_type": "code",
   "execution_count": null,
   "metadata": {
    "collapsed": false,
    "jupyter": {
     "outputs_hidden": false
    }
   },
   "outputs": [],
   "source": [
    "rxnnet = ReNet(name='meacet', symmetry=False)\n",
    "# Add reaction odes and do simulation\n",
    "for idx, value in rmg_rxn_dict.items():\n",
    "    prop = {\"E\": value['G'][str(float(temperature))]['forward']*1000*4.186}\n",
    "    rxn_str = value[\"mapped_rxn\"]\n",
    "    rxnnet.add_rxn(reaction=rxn_str, prop=prop)\n",
    "    prop = {\"E\": value['G'][str(float(temperature))]['reverse']*1000*4.186}\n",
    "    rsmis, psmis = value[\"mapped_rxn\"].split('>>')\n",
    "    rxn_str = \">>\".join([psmis, rsmis])\n",
    "    rxnnet.add_rxn(reaction=rxn_str, prop=prop)\n",
    "results, info = sim_reactor(rxnnet)\n",
    "spec_rxn_dict = get_species_rxn_dict(info, conversion=0.95)\n",
    "edges, coverages = filter_edges(spec_rxn_dict, spec_rxn_dict, top_p=0.25)\n",
    "print(np.average(coverages))"
   ]
  },
  {
   "cell_type": "code",
   "execution_count": null,
   "metadata": {
    "collapsed": false,
    "jupyter": {
     "outputs_hidden": false
    }
   },
   "outputs": [],
   "source": [
    "# DL-KM, the baseline\n",
    "df = pd.read_csv('MeAcet_ml_est.csv')\n",
    "rxnnet_ml = ReNet(name='meacet_ml', symmetry=False)\n",
    "ml_all_est = {}  # get uncertainty, QM calculation results, and ml prediction\n",
    "for idx, value in df.iterrows():\n",
    "    prop = {\"E\": float(value['pred'])*1000*4.186}\n",
    "    rxnnet_ml.add_rxn(reaction=value[0], prop=prop)\n",
    "    ml_all_est[value[0]] = [float(value['unc']), float(value['g']), float(value['pred']), float(value['unc']/value['pred'])]\n",
    "results_ml, info_ml = sim_reactor(rxnnet_ml, sim_time=4)\n",
    "spec_rxn_dict_ml = get_species_rxn_dict(info_ml, conversion=0.95)\n",
    "edges_ml, coverages_ml = filter_edges(spec_rxn_dict, spec_rxn_dict_ml, top_p=0.25)"
   ]
  },
  {
   "cell_type": "code",
   "execution_count": null,
   "metadata": {
    "collapsed": false,
    "jupyter": {
     "outputs_hidden": false
    }
   },
   "outputs": [],
   "source": [
    "# get uncertainty-based calibration\n",
    "# you can change the cali_rate for calibrating the reactions.\n",
    "cali_rate = 0.4  # calibrating the top n% reactions\n",
    "sorted_ml_all_est = sorted(ml_all_est.items(), key=lambda x:x[1][3], reverse= True)\n",
    "unc_sel_rxn = [r[0] for idx, r in enumerate(sorted_ml_all_est) if idx <= int(len(sorted_ml_all_est) * cali_rate)]\n",
    "rxnnet_ml_check_unc = ReNet(name='meacet_ml_check', symmetry=False)\n",
    "for rxn, value in ml_all_est.items():\n",
    "    if rxn in unc_sel_rxn:\n",
    "        prop = {\"E\": value[1]*1000*4.186}\n",
    "    else:\n",
    "        prop = {\"E\": value[2]*1000*4.186}\n",
    "    rxnnet_ml_check_unc.add_rxn(reaction=rxn, prop=prop)\n",
    "\n",
    "results_ml_check_unc, info_check = sim_reactor(rxnnet_ml_check_unc, sim_time=4)\n",
    "spec_rxn_dict_check = get_species_rxn_dict(info_check, conversion=0.95)\n",
    "edges_check, coverages_check = filter_edges(spec_rxn_dict, spec_rxn_dict_check, top_p=0.25)\n",
    "# Get highlight colors\n",
    "highlight_edges_check = [e for e in edges if e not in edges_check]\n",
    "print(np.average(coverages_check))"
   ]
  },
  {
   "cell_type": "code",
   "execution_count": null,
   "metadata": {
    "collapsed": false,
    "jupyter": {
     "outputs_hidden": false
    }
   },
   "outputs": [],
   "source": [
    "random_results = []\n",
    "for random_seed in [0, 1, 2, 3, 4, 5, 6, 7, 8, 9, 10, 11]:\n",
    "    cali_results = []\n",
    "    for cali_rate in [0.1, 0.15, 0.2, 0.25, 0.30, 0.35, 0.40]:\n",
    "        np.random.seed(random_seed)\n",
    "        random_idx = np.random.randint(0, 345, int(len(ml_all_est) * cali_rate))\n",
    "\n",
    "        random_sel = [c[0] for idx, c in enumerate(ml_all_est.items()) if idx in random_idx]\n",
    "        rxnnet_ml_random = ReNet(name='meacet_ml_check', symmetry=False)\n",
    "        for rxn, value in ml_all_est.items():\n",
    "            if rxn in random_sel:\n",
    "                prop = {\"E\": value[1] * 1000 * 4.186}\n",
    "            else:\n",
    "                prop = {\"E\": value[2] * 1000 * 4.186}\n",
    "            rxnnet_ml_random.add_rxn(reaction=rxn, prop=prop)\n",
    "\n",
    "        try:\n",
    "            results_ml_random, info_random = sim_reactor(rxnnet_ml_random, sim_time=4)\n",
    "        except:\n",
    "            results_ml_random, info_random = sim_reactor(rxnnet_ml_random, sim_time=1)\n",
    "        spec_rxn_dict_random = get_species_rxn_dict(info_random, conversion=0.95)\n",
    "        edges_random, coverages_random = filter_edges(spec_rxn_dict, spec_rxn_dict_random, top_p=0.25)\n",
    "        print(np.average(coverages_random))\n",
    "        cali_results.append(np.average(coverages_random))\n",
    "    random_results.append(cali_results)"
   ]
  },
  {
   "cell_type": "code",
   "execution_count": null,
   "outputs": [],
   "source": [
    "print(random_results)"
   ],
   "metadata": {
    "collapsed": false
   }
  }
 ],
 "metadata": {
  "kernelspec": {
   "display_name": "Python 3 (ipykernel)",
   "language": "python",
   "name": "python3"
  },
  "language_info": {
   "codemirror_mode": {
    "name": "ipython",
    "version": 3
   },
   "file_extension": ".py",
   "mimetype": "text/x-python",
   "name": "python",
   "nbconvert_exporter": "python",
   "pygments_lexer": "ipython3",
   "version": "3.11.5"
  }
 },
 "nbformat": 4,
 "nbformat_minor": 4
}
