{
 "cells": [
  {
   "cell_type": "markdown",
   "source": [
    "# This script is the example of training ML models and predicting the uncertainty of given reactions"
   ],
   "metadata": {
    "collapsed": false
   }
  },
  {
   "cell_type": "markdown",
   "source": [
    "Before running the script below, you should install chemprop v1.7.1 firstly.\n",
    "This script is used for illustrating how to train models and make predcitions. More details can be found in chemprop document"
   ],
   "metadata": {
    "collapsed": false
   }
  },
  {
   "cell_type": "code",
   "execution_count": null,
   "outputs": [],
   "source": [
    "import chemprop\n",
    "import os\n",
    "import numpy as np\n",
    "import pandas as pd"
   ],
   "metadata": {
    "collapsed": false
   }
  },
  {
   "cell_type": "code",
   "execution_count": null,
   "outputs": [],
   "source": [
    "# Training models\n",
    "# running this cell can train reactions.\n",
    "arguments = [\n",
    "    '--data_path', 'Ea-B97.csv',  # Training on the 'Ea-B97.csv' database\n",
    "    '--save_dir', 'test_dropout', # saving directory\n",
    "    '--dataset_type', 'regression',\n",
    "    '--empty_cache',\n",
    "    '--reaction',\n",
    "    '--explicit_h',\n",
    "    '--gpu', '0',  # if gpu is not available, this line should be deleted\n",
    "    '--smiles_columns', 'rxn',  # the reaction SMILES column name of Ea-B97.csv database\n",
    "    '--target_columns', 'dE0',  # the target SMILES column name of Ea-B97.csv database\n",
    "    '--num_folds', '5',\n",
    "    '--split_type', 'cv', # cross-validation split\n",
    "    '--epochs', '50',\n",
    "    '--dropout', '0.1',\n",
    "    '--ensemble_size', '1',  # For ensemble model, ensemble size should be 5\n",
    "    '--loss_function', 'mve',  # for evidential learning, mve should be evidential\n",
    "]\n",
    "args = chemprop.args.TrainArgs().parse_args(arguments)\n",
    "mean_score, std_score = chemprop.train.cross_validate(args=args, train_func=chemprop.train.run_training)"
   ],
   "metadata": {
    "collapsed": false
   }
  },
  {
   "cell_type": "markdown",
   "source": [
    "Following script is used to predict models.\n",
    "Here we provided the trained .pt file of ensemble models"
   ],
   "metadata": {
    "collapsed": false
   }
  },
  {
   "cell_type": "code",
   "execution_count": null,
   "outputs": [],
   "source": [
    "def get_ens_unc(ensemble_dir: str,\n",
    "                save_path: str,\n",
    "                data_path: str,\n",
    "                num_models: int = 5,\n",
    "                num_folds: int = 1):\n",
    "    \"\"\"\n",
    "    Get ensemble uncertainty\n",
    "\n",
    "    :param ensemble_dir: the directory of ensemble models\n",
    "    :param save_path: the save path of predicted results\n",
    "    :param data_path: the path of predicting data\n",
    "    :param num_models: the number of ensemble size\n",
    "    :param num_folds: the number of folds\n",
    "    \"\"\"\n",
    "    for fold_i in range(num_folds):\n",
    "        pred_fold = None\n",
    "        for model_i in range(num_models):\n",
    "            cp_dir = os.path.join(ensemble_dir, f'fold_{fold_i}', f'model_{model_i}')\n",
    "            arguments = [\n",
    "                '--test_path', data_path,\n",
    "                '--preds_path', '/dev/null',\n",
    "                '--checkpoint_dir', cp_dir,\n",
    "                '--uncertainty_method', 'mve',\n",
    "            ]\n",
    "\n",
    "            args = chemprop.args.PredictArgs().parse_args(arguments)\n",
    "            preds = chemprop.train.make_predictions(args=args, return_uncertainty=True)  # (2, 1041, 1)\n",
    "            if pred_fold is None:\n",
    "                pred_fold = preds\n",
    "            else:\n",
    "                pred_fold = np.concatenate([pred_fold, np.array(preds)], axis=-1)\n",
    "\n",
    "        # squeeze to 2D for save\n",
    "        value = pred_fold[0, :, :]\n",
    "        unc = pred_fold[1, :, :]\n",
    "\n",
    "        pred_value = np.mean(value, axis=-1, keepdims=True)\n",
    "        epi = np.var(value, axis=-1, keepdims=True)\n",
    "        ale = np.mean(unc, axis=-1, keepdims=True)\n",
    "        data = np.concatenate([pred_value, epi, ale], axis=-1)\n",
    "        names = ['pred', 'ensemble_epistemic', 'ensemble_aleatoric']\n",
    "        ens_df = pd.DataFrame(data=data, columns=names)\n",
    "        ens_df.to_csv(f'{save_path}/ensemble_fold_{fold_i}_pred.csv', index=False)\n",
    "\n",
    "\n",
    "def get_dropout_unc(dropout_dir: str,\n",
    "                    save_path: str,\n",
    "                    data_path: str,\n",
    "                    num_samples: int = 5,\n",
    "                    num_folds: int = 1):\n",
    "    \"\"\"\n",
    "    Get ensemble uncertainty\n",
    "\n",
    "    :param dropout_dir: the directory of sampling models\n",
    "    :param save_path: the save path of predicted results\n",
    "    :param data_path: the path of predicting data\n",
    "    :param num_samples: the number of sampling size\n",
    "    :param num_folds: the number of folds\n",
    "    \"\"\"\n",
    "    for fold_i in range(num_folds):\n",
    "        cp_dir = os.path.join(dropout_dir, f'fold_{fold_i}', f'model_0')\n",
    "        arguments = [\n",
    "                    '--test_path', data_path,\n",
    "                    '--checkpoint_dir', cp_dir,\n",
    "                    '--preds_path', 'dev/null',\n",
    "                    '--uncertainty_method', 'mve',\n",
    "                    '--uncertainty_dropout_p', '0.1',\n",
    "                    '--dropout_sampling_size', f'{num_samples}',\n",
    "                ]\n",
    "\n",
    "        args = chemprop.args.PredictArgs().parse_args(arguments)\n",
    "        preds = chemprop.make_dropout_predictions(args=args, return_raw_pred=True)\n",
    "        pred_fold = None\n",
    "        for pred_model in preds[0]:\n",
    "            if pred_fold is None:\n",
    "                pred_fold = pred_model\n",
    "            else:\n",
    "                pred_fold = np.concatenate([pred_fold, np.array(pred_model)], axis=-1)\n",
    "\n",
    "        # squeeze to 2D for save\n",
    "        value = pred_fold[0, :, :]\n",
    "        unc = pred_fold[1, :, :]\n",
    "\n",
    "        pred_value = np.mean(value, axis=-1, keepdims=True)\n",
    "        epi = np.var(value, axis=-1, keepdims=True)\n",
    "        ale = np.mean(unc, axis=-1, keepdims=True)\n",
    "        data = np.concatenate([pred_value, epi, ale], axis=-1)\n",
    "        names = ['pred', 'dropout_epistemic', 'dropout_aleatoric']\n",
    "        dropout_df = pd.DataFrame(data=data, columns=names)\n",
    "        dropout_df.to_csv(f'{save_path}/dropout_fold_{fold_i}_pred.csv', index=False)\n",
    "\n",
    "\n",
    "def get_evidential_unc(evidential_dir: str,\n",
    "                       save_path: str,\n",
    "                       data_path: str,\n",
    "                       num_folds: int = 1):\n",
    "    \"\"\"\n",
    "    Get ensemble uncertainty\n",
    "\n",
    "    :param evidential_dir: the directory of evidential models\n",
    "    :param save_path: the save path of predicted results\n",
    "    :param data_path: the path of predicting data\n",
    "    :param num_folds: the number of folds\n",
    "    \"\"\"\n",
    "    for fold_i in range(num_folds):\n",
    "        cp_dir = os.path.join(evidential_dir, f'fold_{fold_i}', f'model_0')\n",
    "        arguments = [\n",
    "                    '--test_path', data_path,\n",
    "                    '--preds_path', '/dev/null',\n",
    "                    '--checkpoint_dir', cp_dir,\n",
    "                    '--uncertainty_method', 'evidential_epistemic'\n",
    "                ]\n",
    "\n",
    "        args = chemprop.args.PredictArgs().parse_args(arguments)\n",
    "        preds_epi = chemprop.train.make_predictions(args=args, return_uncertainty=True)\n",
    "        args.uncertainty_method = 'evidential_aleatoric'\n",
    "        preds_ale = chemprop.train.make_predictions(args=args, return_uncertainty=True)\n",
    "        ale = np.array(preds_ale)[1:2, :, :]\n",
    "        pred_fold = np.transpose(np.squeeze(np.concatenate([preds_epi, ale], axis=0)))\n",
    "        df_names = ['pred', 'evidential_epistemic', 'evidential_aleatoric']\n",
    "        evi_df = pd.DataFrame(data=pred_fold, columns=df_names)\n",
    "        evi_df.to_csv(f'{save_path}/evidential_fold_{fold_i}_pred.csv', index=False)"
   ],
   "metadata": {
    "collapsed": false
   }
  },
  {
   "cell_type": "markdown",
   "source": [
    "## Running following cells can get the uncertainty predictions\n",
    "Note: we provided the trained models (in `trained_models` directory) for test. Users are recommended for training their own models using the scripts we provided above."
   ],
   "metadata": {
    "collapsed": false
   }
  },
  {
   "cell_type": "code",
   "execution_count": null,
   "outputs": [],
   "source": [
    "# Running this script can get ensemble prediction results (.csv file) in ensemble_test directory\n",
    "save_path = 'ensemble_test'\n",
    "if not os.path.exists(save_path):\n",
    "    os.mkdir(save_path)\n",
    "cp_path = 'trained_models/ensemble'\n",
    "get_ens_unc(ensemble_dir=cp_path, save_path=save_path, data_path='test_smiles.csv')"
   ],
   "metadata": {
    "collapsed": false
   }
  },
  {
   "cell_type": "code",
   "execution_count": null,
   "outputs": [],
   "source": [
    "# Running this script can get evidential prediction results (.csv file) in evidential_test directory\n",
    "save_path = 'evidential_test'\n",
    "if not os.path.exists(save_path):\n",
    "    os.mkdir(save_path)\n",
    "cp_path = 'trained_models/evidential'\n",
    "get_evidential_unc(evidential_dir=cp_path, save_path=save_path, data_path='test_smiles.csv')"
   ],
   "metadata": {
    "collapsed": false
   }
  },
  {
   "cell_type": "code",
   "execution_count": null,
   "outputs": [],
   "source": [
    "# Running this script can get dropout prediction results (.csv file) in dropout_test directory\n",
    "save_path = 'dropout_test'\n",
    "if not os.path.exists(save_path):\n",
    "    os.mkdir(save_path)\n",
    "cp_path = 'trained_models/dropout'\n",
    "get_dropout_unc(dropout_dir=cp_path, save_path=save_path, data_path='test_smiles.csv')"
   ],
   "metadata": {
    "collapsed": false
   }
  },
  {
   "cell_type": "code",
   "execution_count": null,
   "outputs": [],
   "source": [],
   "metadata": {
    "collapsed": false
   }
  }
 ],
 "metadata": {
  "kernelspec": {
   "display_name": "Python 3",
   "language": "python",
   "name": "python3"
  },
  "language_info": {
   "codemirror_mode": {
    "name": "ipython",
    "version": 2
   },
   "file_extension": ".py",
   "mimetype": "text/x-python",
   "name": "python",
   "nbconvert_exporter": "python",
   "pygments_lexer": "ipython2",
   "version": "2.7.6"
  }
 },
 "nbformat": 4,
 "nbformat_minor": 0
}
